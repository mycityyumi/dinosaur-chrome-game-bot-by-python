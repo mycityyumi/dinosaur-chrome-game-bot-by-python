{
 "cells": [
  {
   "cell_type": "code",
   "execution_count": 1,
   "metadata": {},
   "outputs": [],
   "source": [
    "from PIL import ImageGrab,ImageOps\n",
    "import pyautogui as gui\n",
    "import time\n",
    "from numpy import array"
   ]
  },
  {
   "cell_type": "code",
   "execution_count": 2,
   "metadata": {},
   "outputs": [],
   "source": [
    "class Cordinates():\n",
    "    replayBtn = (580,503)\n",
    "    dinosaur = (280,510)"
   ]
  },
  {
   "cell_type": "code",
   "execution_count": 3,
   "metadata": {},
   "outputs": [],
   "source": [
    "def restartGame():\n",
    "    gui.click(Cordinates.replayBtn)\n",
    "    #gui.keyDown('down')"
   ]
  },
  {
   "cell_type": "code",
   "execution_count": 4,
   "metadata": {},
   "outputs": [],
   "source": [
    "def pressSpace():\n",
    "    #gui.keyUp('down')\n",
    "    time.sleep(0.02)\n",
    "    gui.keyDown('space')\n",
    "    print(\"Jumpped\")\n",
    "    #time.sleep(0.17)\n",
    "    gui.keyUp(\"space\")\n",
    "    #gui.keyDown('down')"
   ]
  },
  {
   "cell_type": "code",
   "execution_count": 5,
   "metadata": {},
   "outputs": [],
   "source": [
    "def imageGrab():\n",
    "    box = (440,504,440+20,530+10)\n",
    "    image = ImageGrab.grab(box)\n",
    "    grayImage = ImageOps.grayscale(image)\n",
    "    a = array(grayImage.getcolors())\n",
    "    return a.sum()\n"
   ]
  },
  {
   "cell_type": "code",
   "execution_count": 6,
   "metadata": {},
   "outputs": [],
   "source": [
    "def main():\n",
    "    restartGame()\n",
    "    while True:\n",
    "        if (imageGrab()!=967):\n",
    "            print(imageGrab())\n",
    "            pressSpace()\n",
    "            time.sleep(0.001)"
   ]
  },
  {
   "cell_type": "code",
   "execution_count": 9,
   "metadata": {
    "scrolled": false
   },
   "outputs": [
    {
     "name": "stdout",
     "output_type": "stream",
     "text": [
      "5661\n",
      "Jumpped\n",
      "967\n",
      "Jumpped\n",
      "4921\n",
      "Jumpped\n",
      "967\n",
      "Jumpped\n",
      "967\n",
      "Jumpped\n",
      "4548\n",
      "Jumpped\n",
      "967\n",
      "Jumpped\n",
      "967\n",
      "Jumpped\n",
      "4417\n",
      "Jumpped\n",
      "8467\n",
      "Jumpped\n",
      "967\n",
      "Jumpped\n",
      "4417\n",
      "Jumpped\n",
      "967\n",
      "Jumpped\n",
      "967\n",
      "Jumpped\n",
      "967\n",
      "Jumpped\n",
      "967\n",
      "Jumpped\n",
      "6549\n",
      "Jumpped\n",
      "967\n",
      "Jumpped\n",
      "2510\n",
      "Jumpped\n",
      "7805\n",
      "Jumpped\n",
      "7561\n",
      "Jumpped\n",
      "7530\n",
      "Jumpped\n",
      "8238\n",
      "Jumpped\n",
      "2855\n",
      "Jumpped\n",
      "967\n",
      "Jumpped\n",
      "6549\n",
      "Jumpped\n",
      "6549\n",
      "Jumpped\n",
      "6231\n",
      "Jumpped\n",
      "967\n",
      "Jumpped\n",
      "967\n",
      "Jumpped\n",
      "7135\n",
      "Jumpped\n",
      "6339\n",
      "Jumpped\n",
      "954\n",
      "Jumpped\n",
      "784\n",
      "Jumpped\n",
      "784\n",
      "Jumpped\n",
      "784\n",
      "Jumpped\n",
      "784\n",
      "Jumpped\n",
      "784\n",
      "Jumpped\n",
      "784\n",
      "Jumpped\n",
      "784\n",
      "Jumpped\n",
      "784\n",
      "Jumpped\n",
      "784\n",
      "Jumpped\n",
      "784\n",
      "Jumpped\n",
      "784\n",
      "Jumpped\n",
      "784\n",
      "Jumpped\n",
      "784\n",
      "Jumpped\n",
      "784\n",
      "Jumpped\n",
      "784\n",
      "Jumpped\n",
      "784\n",
      "Jumpped\n",
      "784\n",
      "Jumpped\n",
      "784\n",
      "Jumpped\n",
      "784\n",
      "Jumpped\n",
      "784\n",
      "Jumpped\n",
      "784\n",
      "Jumpped\n",
      "784\n",
      "Jumpped\n",
      "784\n",
      "Jumpped\n",
      "784\n",
      "Jumpped\n",
      "784\n",
      "Jumpped\n",
      "784\n",
      "Jumpped\n",
      "784\n",
      "Jumpped\n",
      "784\n",
      "Jumpped\n",
      "784\n",
      "Jumpped\n",
      "784\n",
      "Jumpped\n",
      "784\n",
      "Jumpped\n"
     ]
    },
    {
     "ename": "KeyboardInterrupt",
     "evalue": "",
     "output_type": "error",
     "traceback": [
      "\u001b[1;31m---------------------------------------------------------------------------\u001b[0m",
      "\u001b[1;31mKeyboardInterrupt\u001b[0m                         Traceback (most recent call last)",
      "\u001b[1;32m<ipython-input-9-263240bbee7e>\u001b[0m in \u001b[0;36m<module>\u001b[1;34m()\u001b[0m\n\u001b[1;32m----> 1\u001b[1;33m \u001b[0mmain\u001b[0m\u001b[1;33m(\u001b[0m\u001b[1;33m)\u001b[0m\u001b[1;33m\u001b[0m\u001b[0m\n\u001b[0m",
      "\u001b[1;32m<ipython-input-6-8b7bce5dfdd0>\u001b[0m in \u001b[0;36mmain\u001b[1;34m()\u001b[0m\n\u001b[0;32m      2\u001b[0m     \u001b[0mrestartGame\u001b[0m\u001b[1;33m(\u001b[0m\u001b[1;33m)\u001b[0m\u001b[1;33m\u001b[0m\u001b[0m\n\u001b[0;32m      3\u001b[0m     \u001b[1;32mwhile\u001b[0m \u001b[1;32mTrue\u001b[0m\u001b[1;33m:\u001b[0m\u001b[1;33m\u001b[0m\u001b[0m\n\u001b[1;32m----> 4\u001b[1;33m         \u001b[1;32mif\u001b[0m \u001b[1;33m(\u001b[0m\u001b[0mimageGrab\u001b[0m\u001b[1;33m(\u001b[0m\u001b[1;33m)\u001b[0m\u001b[1;33m!=\u001b[0m\u001b[1;36m967\u001b[0m\u001b[1;33m)\u001b[0m\u001b[1;33m:\u001b[0m\u001b[1;33m\u001b[0m\u001b[0m\n\u001b[0m\u001b[0;32m      5\u001b[0m             \u001b[0mprint\u001b[0m\u001b[1;33m(\u001b[0m\u001b[0mimageGrab\u001b[0m\u001b[1;33m(\u001b[0m\u001b[1;33m)\u001b[0m\u001b[1;33m)\u001b[0m\u001b[1;33m\u001b[0m\u001b[0m\n\u001b[0;32m      6\u001b[0m             \u001b[0mpressSpace\u001b[0m\u001b[1;33m(\u001b[0m\u001b[1;33m)\u001b[0m\u001b[1;33m\u001b[0m\u001b[0m\n",
      "\u001b[1;32m<ipython-input-5-4aebbe3744ca>\u001b[0m in \u001b[0;36mimageGrab\u001b[1;34m()\u001b[0m\n\u001b[0;32m      1\u001b[0m \u001b[1;32mdef\u001b[0m \u001b[0mimageGrab\u001b[0m\u001b[1;33m(\u001b[0m\u001b[1;33m)\u001b[0m\u001b[1;33m:\u001b[0m\u001b[1;33m\u001b[0m\u001b[0m\n\u001b[0;32m      2\u001b[0m     \u001b[0mbox\u001b[0m \u001b[1;33m=\u001b[0m \u001b[1;33m(\u001b[0m\u001b[1;36m440\u001b[0m\u001b[1;33m,\u001b[0m\u001b[1;36m504\u001b[0m\u001b[1;33m,\u001b[0m\u001b[1;36m440\u001b[0m\u001b[1;33m+\u001b[0m\u001b[1;36m20\u001b[0m\u001b[1;33m,\u001b[0m\u001b[1;36m530\u001b[0m\u001b[1;33m+\u001b[0m\u001b[1;36m10\u001b[0m\u001b[1;33m)\u001b[0m\u001b[1;33m\u001b[0m\u001b[0m\n\u001b[1;32m----> 3\u001b[1;33m     \u001b[0mimage\u001b[0m \u001b[1;33m=\u001b[0m \u001b[0mImageGrab\u001b[0m\u001b[1;33m.\u001b[0m\u001b[0mgrab\u001b[0m\u001b[1;33m(\u001b[0m\u001b[0mbox\u001b[0m\u001b[1;33m)\u001b[0m\u001b[1;33m\u001b[0m\u001b[0m\n\u001b[0m\u001b[0;32m      4\u001b[0m     \u001b[0mgrayImage\u001b[0m \u001b[1;33m=\u001b[0m \u001b[0mImageOps\u001b[0m\u001b[1;33m.\u001b[0m\u001b[0mgrayscale\u001b[0m\u001b[1;33m(\u001b[0m\u001b[0mimage\u001b[0m\u001b[1;33m)\u001b[0m\u001b[1;33m\u001b[0m\u001b[0m\n\u001b[0;32m      5\u001b[0m     \u001b[0ma\u001b[0m \u001b[1;33m=\u001b[0m \u001b[0marray\u001b[0m\u001b[1;33m(\u001b[0m\u001b[0mgrayImage\u001b[0m\u001b[1;33m.\u001b[0m\u001b[0mgetcolors\u001b[0m\u001b[1;33m(\u001b[0m\u001b[1;33m)\u001b[0m\u001b[1;33m)\u001b[0m\u001b[1;33m\u001b[0m\u001b[0m\n",
      "\u001b[1;32mc:\\Python36\\lib\\site-packages\\PIL\\ImageGrab.py\u001b[0m in \u001b[0;36mgrab\u001b[1;34m(bbox)\u001b[0m\n\u001b[0;32m     39\u001b[0m         \u001b[0mos\u001b[0m\u001b[1;33m.\u001b[0m\u001b[0munlink\u001b[0m\u001b[1;33m(\u001b[0m\u001b[0mfilepath\u001b[0m\u001b[1;33m)\u001b[0m\u001b[1;33m\u001b[0m\u001b[0m\n\u001b[0;32m     40\u001b[0m     \u001b[1;32melse\u001b[0m\u001b[1;33m:\u001b[0m\u001b[1;33m\u001b[0m\u001b[0m\n\u001b[1;32m---> 41\u001b[1;33m         \u001b[0msize\u001b[0m\u001b[1;33m,\u001b[0m \u001b[0mdata\u001b[0m \u001b[1;33m=\u001b[0m \u001b[0mgrabber\u001b[0m\u001b[1;33m(\u001b[0m\u001b[1;33m)\u001b[0m\u001b[1;33m\u001b[0m\u001b[0m\n\u001b[0m\u001b[0;32m     42\u001b[0m         im = Image.frombytes(\n\u001b[0;32m     43\u001b[0m             \u001b[1;34m\"RGB\"\u001b[0m\u001b[1;33m,\u001b[0m \u001b[0msize\u001b[0m\u001b[1;33m,\u001b[0m \u001b[0mdata\u001b[0m\u001b[1;33m,\u001b[0m\u001b[1;33m\u001b[0m\u001b[0m\n",
      "\u001b[1;31mKeyboardInterrupt\u001b[0m: "
     ]
    }
   ],
   "source": [
    "main()"
   ]
  },
  {
   "cell_type": "code",
   "execution_count": null,
   "metadata": {},
   "outputs": [],
   "source": []
  },
  {
   "cell_type": "code",
   "execution_count": null,
   "metadata": {},
   "outputs": [],
   "source": [
    "   "
   ]
  }
 ],
 "metadata": {
  "kernelspec": {
   "display_name": "Python 3",
   "language": "python",
   "name": "python3"
  },
  "language_info": {
   "codemirror_mode": {
    "name": "ipython",
    "version": 3
   },
   "file_extension": ".py",
   "mimetype": "text/x-python",
   "name": "python",
   "nbconvert_exporter": "python",
   "pygments_lexer": "ipython3",
   "version": "3.6.6"
  }
 },
 "nbformat": 4,
 "nbformat_minor": 2
}
